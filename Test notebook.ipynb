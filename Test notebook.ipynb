{
 "cells": [
  {
   "cell_type": "code",
   "execution_count": 1,
   "id": "1f132fb4",
   "metadata": {},
   "outputs": [],
   "source": [
    "import os\n",
    "import sys\n",
    "sys.path.append('./Py-tsetmc/ ')\n",
    "# Cleaning the Data\n",
    "import pandas as pd\n"
   ]
  },
  {
   "cell_type": "code",
   "execution_count": 2,
   "id": "a77aa1af",
   "metadata": {},
   "outputs": [],
   "source": [
    "\n",
    "# Read the Excel file\n",
    "# df = pd.read_excel(\"./tsetmcdata/14020701.xlsx\", skiprows=1, header=1)\n",
    "\n",
    "def clean_data(date):\n",
    "    # Replace \"ي\" and \"\" with \"ی\" and \" \"respectively: \n",
    "    date.replace(to_replace=[\"ي\", \"ك\"], value=[\"ی\", \"ک\"],regex=True,inplace=True)\n",
    "    return date\n",
    "# clean_data(df)\n",
    "\n"
   ]
  },
  {
   "cell_type": "code",
   "execution_count": 4,
   "id": "5c74477f",
   "metadata": {},
   "outputs": [
    {
     "ename": "KeyboardInterrupt",
     "evalue": "",
     "output_type": "error",
     "traceback": [
      "\u001b[1;31m---------------------------------------------------------------------------\u001b[0m",
      "\u001b[1;31mKeyboardInterrupt\u001b[0m                         Traceback (most recent call last)",
      "\u001b[1;32mc:\\Users\\ebidr\\Documents\\Option-Market\\Test notebook.ipynb Cell 3\u001b[0m line \u001b[0;36m2\n\u001b[0;32m     <a href='vscode-notebook-cell:/c%3A/Users/ebidr/Documents/Option-Market/Test%20notebook.ipynb#W2sZmlsZQ%3D%3D?line=19'>20</a>\u001b[0m     all_data\u001b[39m.\u001b[39mreplace(to_replace\u001b[39m=\u001b[39m[\u001b[39m\"\u001b[39m\u001b[39mي\u001b[39m\u001b[39m\"\u001b[39m, \u001b[39m\"\u001b[39m\u001b[39mك\u001b[39m\u001b[39m\"\u001b[39m], value\u001b[39m=\u001b[39m[\n\u001b[0;32m     <a href='vscode-notebook-cell:/c%3A/Users/ebidr/Documents/Option-Market/Test%20notebook.ipynb#W2sZmlsZQ%3D%3D?line=20'>21</a>\u001b[0m         \u001b[39m\"\u001b[39m\u001b[39mی\u001b[39m\u001b[39m\"\u001b[39m, \u001b[39m\"\u001b[39m\u001b[39mک\u001b[39m\u001b[39m\"\u001b[39m], regex\u001b[39m=\u001b[39m\u001b[39mTrue\u001b[39;00m, inplace\u001b[39m=\u001b[39m\u001b[39mTrue\u001b[39;00m)\n\u001b[0;32m     <a href='vscode-notebook-cell:/c%3A/Users/ebidr/Documents/Option-Market/Test%20notebook.ipynb#W2sZmlsZQ%3D%3D?line=21'>22</a>\u001b[0m     \u001b[39mreturn\u001b[39;00m all_data\n\u001b[1;32m---> <a href='vscode-notebook-cell:/c%3A/Users/ebidr/Documents/Option-Market/Test%20notebook.ipynb#W2sZmlsZQ%3D%3D?line=24'>25</a>\u001b[0m clean_combine_data(\u001b[39m\"\u001b[39;49m\u001b[39m1401-01-01\u001b[39;49m\u001b[39m\"\u001b[39;49m,\u001b[39m\"\u001b[39;49m\u001b[39m1402-01-01\u001b[39;49m\u001b[39m\"\u001b[39;49m)\n",
      "\u001b[1;32mc:\\Users\\ebidr\\Documents\\Option-Market\\Test notebook.ipynb Cell 3\u001b[0m line \u001b[0;36m1\n\u001b[0;32m     <a href='vscode-notebook-cell:/c%3A/Users/ebidr/Documents/Option-Market/Test%20notebook.ipynb#W2sZmlsZQ%3D%3D?line=12'>13</a>\u001b[0m \u001b[39mdef\u001b[39;00m \u001b[39mclean_combine_data\u001b[39m(start_date,end_date):\n\u001b[0;32m     <a href='vscode-notebook-cell:/c%3A/Users/ebidr/Documents/Option-Market/Test%20notebook.ipynb#W2sZmlsZQ%3D%3D?line=13'>14</a>\u001b[0m     \u001b[39m# generate_jalali_date_range(start_date,end_date)\u001b[39;00m\n\u001b[0;32m     <a href='vscode-notebook-cell:/c%3A/Users/ebidr/Documents/Option-Market/Test%20notebook.ipynb#W2sZmlsZQ%3D%3D?line=14'>15</a>\u001b[0m     data_dir \u001b[39m=\u001b[39m \u001b[39mlist\u001b[39m(Path(\u001b[39m\"\u001b[39m\u001b[39m./tsetmcdata\u001b[39m\u001b[39m\"\u001b[39m)\u001b[39m.\u001b[39mglob(\u001b[39m\"\u001b[39m\u001b[39m*.xlsx\u001b[39m\u001b[39m\"\u001b[39m))\n\u001b[1;32m---> <a href='vscode-notebook-cell:/c%3A/Users/ebidr/Documents/Option-Market/Test%20notebook.ipynb#W2sZmlsZQ%3D%3D?line=16'>17</a>\u001b[0m     all_data \u001b[39m=\u001b[39m pd\u001b[39m.\u001b[39mconcat([pd\u001b[39m.\u001b[39;49mread_excel(f, skiprows\u001b[39m=\u001b[39;49m\u001b[39m1\u001b[39;49m, header\u001b[39m=\u001b[39;49m\u001b[39m1\u001b[39;49m)\n\u001b[0;32m     <a href='vscode-notebook-cell:/c%3A/Users/ebidr/Documents/Option-Market/Test%20notebook.ipynb#W2sZmlsZQ%3D%3D?line=17'>18</a>\u001b[0m                           \u001b[39mfor\u001b[39;49;00m f \u001b[39min\u001b[39;49;00m data_dir], ignore_index\u001b[39m=\u001b[39m\u001b[39mTrue\u001b[39;00m)\n\u001b[0;32m     <a href='vscode-notebook-cell:/c%3A/Users/ebidr/Documents/Option-Market/Test%20notebook.ipynb#W2sZmlsZQ%3D%3D?line=18'>19</a>\u001b[0m     \u001b[39m# Replacing with \"ی\" and \" ک\"\u001b[39;00m\n\u001b[0;32m     <a href='vscode-notebook-cell:/c%3A/Users/ebidr/Documents/Option-Market/Test%20notebook.ipynb#W2sZmlsZQ%3D%3D?line=19'>20</a>\u001b[0m     all_data\u001b[39m.\u001b[39mreplace(to_replace\u001b[39m=\u001b[39m[\u001b[39m\"\u001b[39m\u001b[39mي\u001b[39m\u001b[39m\"\u001b[39m, \u001b[39m\"\u001b[39m\u001b[39mك\u001b[39m\u001b[39m\"\u001b[39m], value\u001b[39m=\u001b[39m[\n\u001b[0;32m     <a href='vscode-notebook-cell:/c%3A/Users/ebidr/Documents/Option-Market/Test%20notebook.ipynb#W2sZmlsZQ%3D%3D?line=20'>21</a>\u001b[0m         \u001b[39m\"\u001b[39m\u001b[39mی\u001b[39m\u001b[39m\"\u001b[39m, \u001b[39m\"\u001b[39m\u001b[39mک\u001b[39m\u001b[39m\"\u001b[39m], regex\u001b[39m=\u001b[39m\u001b[39mTrue\u001b[39;00m, inplace\u001b[39m=\u001b[39m\u001b[39mTrue\u001b[39;00m)\n",
      "\u001b[1;32mc:\\Users\\ebidr\\Documents\\Option-Market\\Test notebook.ipynb Cell 3\u001b[0m line \u001b[0;36m1\n\u001b[0;32m     <a href='vscode-notebook-cell:/c%3A/Users/ebidr/Documents/Option-Market/Test%20notebook.ipynb#W2sZmlsZQ%3D%3D?line=12'>13</a>\u001b[0m \u001b[39mdef\u001b[39;00m \u001b[39mclean_combine_data\u001b[39m(start_date,end_date):\n\u001b[0;32m     <a href='vscode-notebook-cell:/c%3A/Users/ebidr/Documents/Option-Market/Test%20notebook.ipynb#W2sZmlsZQ%3D%3D?line=13'>14</a>\u001b[0m     \u001b[39m# generate_jalali_date_range(start_date,end_date)\u001b[39;00m\n\u001b[0;32m     <a href='vscode-notebook-cell:/c%3A/Users/ebidr/Documents/Option-Market/Test%20notebook.ipynb#W2sZmlsZQ%3D%3D?line=14'>15</a>\u001b[0m     data_dir \u001b[39m=\u001b[39m \u001b[39mlist\u001b[39m(Path(\u001b[39m\"\u001b[39m\u001b[39m./tsetmcdata\u001b[39m\u001b[39m\"\u001b[39m)\u001b[39m.\u001b[39mglob(\u001b[39m\"\u001b[39m\u001b[39m*.xlsx\u001b[39m\u001b[39m\"\u001b[39m))\n\u001b[1;32m---> <a href='vscode-notebook-cell:/c%3A/Users/ebidr/Documents/Option-Market/Test%20notebook.ipynb#W2sZmlsZQ%3D%3D?line=16'>17</a>\u001b[0m     all_data \u001b[39m=\u001b[39m pd\u001b[39m.\u001b[39mconcat([pd\u001b[39m.\u001b[39;49mread_excel(f, skiprows\u001b[39m=\u001b[39;49m\u001b[39m1\u001b[39;49m, header\u001b[39m=\u001b[39;49m\u001b[39m1\u001b[39;49m)\n\u001b[0;32m     <a href='vscode-notebook-cell:/c%3A/Users/ebidr/Documents/Option-Market/Test%20notebook.ipynb#W2sZmlsZQ%3D%3D?line=17'>18</a>\u001b[0m                           \u001b[39mfor\u001b[39;00m f \u001b[39min\u001b[39;00m data_dir], ignore_index\u001b[39m=\u001b[39m\u001b[39mTrue\u001b[39;00m)\n\u001b[0;32m     <a href='vscode-notebook-cell:/c%3A/Users/ebidr/Documents/Option-Market/Test%20notebook.ipynb#W2sZmlsZQ%3D%3D?line=18'>19</a>\u001b[0m     \u001b[39m# Replacing with \"ی\" and \" ک\"\u001b[39;00m\n\u001b[0;32m     <a href='vscode-notebook-cell:/c%3A/Users/ebidr/Documents/Option-Market/Test%20notebook.ipynb#W2sZmlsZQ%3D%3D?line=19'>20</a>\u001b[0m     all_data\u001b[39m.\u001b[39mreplace(to_replace\u001b[39m=\u001b[39m[\u001b[39m\"\u001b[39m\u001b[39mي\u001b[39m\u001b[39m\"\u001b[39m, \u001b[39m\"\u001b[39m\u001b[39mك\u001b[39m\u001b[39m\"\u001b[39m], value\u001b[39m=\u001b[39m[\n\u001b[0;32m     <a href='vscode-notebook-cell:/c%3A/Users/ebidr/Documents/Option-Market/Test%20notebook.ipynb#W2sZmlsZQ%3D%3D?line=20'>21</a>\u001b[0m         \u001b[39m\"\u001b[39m\u001b[39mی\u001b[39m\u001b[39m\"\u001b[39m, \u001b[39m\"\u001b[39m\u001b[39mک\u001b[39m\u001b[39m\"\u001b[39m], regex\u001b[39m=\u001b[39m\u001b[39mTrue\u001b[39;00m, inplace\u001b[39m=\u001b[39m\u001b[39mTrue\u001b[39;00m)\n",
      "File \u001b[1;32mc:\\Users\\ebidr\\AppData\\Local\\Programs\\Python\\Python311\\Lib\\site-packages\\pandas\\io\\excel\\_base.py:517\u001b[0m, in \u001b[0;36mread_excel\u001b[1;34m(io, sheet_name, header, names, index_col, usecols, dtype, engine, converters, true_values, false_values, skiprows, nrows, na_values, keep_default_na, na_filter, verbose, parse_dates, date_parser, date_format, thousands, decimal, comment, skipfooter, storage_options, dtype_backend, engine_kwargs)\u001b[0m\n\u001b[0;32m    511\u001b[0m     \u001b[39mraise\u001b[39;00m \u001b[39mValueError\u001b[39;00m(\n\u001b[0;32m    512\u001b[0m         \u001b[39m\"\u001b[39m\u001b[39mEngine should not be specified when passing \u001b[39m\u001b[39m\"\u001b[39m\n\u001b[0;32m    513\u001b[0m         \u001b[39m\"\u001b[39m\u001b[39man ExcelFile - ExcelFile already has the engine set\u001b[39m\u001b[39m\"\u001b[39m\n\u001b[0;32m    514\u001b[0m     )\n\u001b[0;32m    516\u001b[0m \u001b[39mtry\u001b[39;00m:\n\u001b[1;32m--> 517\u001b[0m     data \u001b[39m=\u001b[39m io\u001b[39m.\u001b[39;49mparse(\n\u001b[0;32m    518\u001b[0m         sheet_name\u001b[39m=\u001b[39;49msheet_name,\n\u001b[0;32m    519\u001b[0m         header\u001b[39m=\u001b[39;49mheader,\n\u001b[0;32m    520\u001b[0m         names\u001b[39m=\u001b[39;49mnames,\n\u001b[0;32m    521\u001b[0m         index_col\u001b[39m=\u001b[39;49mindex_col,\n\u001b[0;32m    522\u001b[0m         usecols\u001b[39m=\u001b[39;49musecols,\n\u001b[0;32m    523\u001b[0m         dtype\u001b[39m=\u001b[39;49mdtype,\n\u001b[0;32m    524\u001b[0m         converters\u001b[39m=\u001b[39;49mconverters,\n\u001b[0;32m    525\u001b[0m         true_values\u001b[39m=\u001b[39;49mtrue_values,\n\u001b[0;32m    526\u001b[0m         false_values\u001b[39m=\u001b[39;49mfalse_values,\n\u001b[0;32m    527\u001b[0m         skiprows\u001b[39m=\u001b[39;49mskiprows,\n\u001b[0;32m    528\u001b[0m         nrows\u001b[39m=\u001b[39;49mnrows,\n\u001b[0;32m    529\u001b[0m         na_values\u001b[39m=\u001b[39;49mna_values,\n\u001b[0;32m    530\u001b[0m         keep_default_na\u001b[39m=\u001b[39;49mkeep_default_na,\n\u001b[0;32m    531\u001b[0m         na_filter\u001b[39m=\u001b[39;49mna_filter,\n\u001b[0;32m    532\u001b[0m         verbose\u001b[39m=\u001b[39;49mverbose,\n\u001b[0;32m    533\u001b[0m         parse_dates\u001b[39m=\u001b[39;49mparse_dates,\n\u001b[0;32m    534\u001b[0m         date_parser\u001b[39m=\u001b[39;49mdate_parser,\n\u001b[0;32m    535\u001b[0m         date_format\u001b[39m=\u001b[39;49mdate_format,\n\u001b[0;32m    536\u001b[0m         thousands\u001b[39m=\u001b[39;49mthousands,\n\u001b[0;32m    537\u001b[0m         decimal\u001b[39m=\u001b[39;49mdecimal,\n\u001b[0;32m    538\u001b[0m         comment\u001b[39m=\u001b[39;49mcomment,\n\u001b[0;32m    539\u001b[0m         skipfooter\u001b[39m=\u001b[39;49mskipfooter,\n\u001b[0;32m    540\u001b[0m         dtype_backend\u001b[39m=\u001b[39;49mdtype_backend,\n\u001b[0;32m    541\u001b[0m     )\n\u001b[0;32m    542\u001b[0m \u001b[39mfinally\u001b[39;00m:\n\u001b[0;32m    543\u001b[0m     \u001b[39m# make sure to close opened file handles\u001b[39;00m\n\u001b[0;32m    544\u001b[0m     \u001b[39mif\u001b[39;00m should_close:\n",
      "File \u001b[1;32mc:\\Users\\ebidr\\AppData\\Local\\Programs\\Python\\Python311\\Lib\\site-packages\\pandas\\io\\excel\\_base.py:1629\u001b[0m, in \u001b[0;36mExcelFile.parse\u001b[1;34m(self, sheet_name, header, names, index_col, usecols, converters, true_values, false_values, skiprows, nrows, na_values, parse_dates, date_parser, date_format, thousands, comment, skipfooter, dtype_backend, **kwds)\u001b[0m\n\u001b[0;32m   1589\u001b[0m \u001b[39mdef\u001b[39;00m \u001b[39mparse\u001b[39m(\n\u001b[0;32m   1590\u001b[0m     \u001b[39mself\u001b[39m,\n\u001b[0;32m   1591\u001b[0m     sheet_name: \u001b[39mstr\u001b[39m \u001b[39m|\u001b[39m \u001b[39mint\u001b[39m \u001b[39m|\u001b[39m \u001b[39mlist\u001b[39m[\u001b[39mint\u001b[39m] \u001b[39m|\u001b[39m \u001b[39mlist\u001b[39m[\u001b[39mstr\u001b[39m] \u001b[39m|\u001b[39m \u001b[39mNone\u001b[39;00m \u001b[39m=\u001b[39m \u001b[39m0\u001b[39m,\n\u001b[1;32m   (...)\u001b[0m\n\u001b[0;32m   1609\u001b[0m     \u001b[39m*\u001b[39m\u001b[39m*\u001b[39mkwds,\n\u001b[0;32m   1610\u001b[0m ) \u001b[39m-\u001b[39m\u001b[39m>\u001b[39m DataFrame \u001b[39m|\u001b[39m \u001b[39mdict\u001b[39m[\u001b[39mstr\u001b[39m, DataFrame] \u001b[39m|\u001b[39m \u001b[39mdict\u001b[39m[\u001b[39mint\u001b[39m, DataFrame]:\n\u001b[0;32m   1611\u001b[0m \u001b[39m    \u001b[39m\u001b[39m\"\"\"\u001b[39;00m\n\u001b[0;32m   1612\u001b[0m \u001b[39m    Parse specified sheet(s) into a DataFrame.\u001b[39;00m\n\u001b[0;32m   1613\u001b[0m \n\u001b[1;32m   (...)\u001b[0m\n\u001b[0;32m   1627\u001b[0m \u001b[39m    >>> file.parse()  # doctest: +SKIP\u001b[39;00m\n\u001b[0;32m   1628\u001b[0m \u001b[39m    \"\"\"\u001b[39;00m\n\u001b[1;32m-> 1629\u001b[0m     \u001b[39mreturn\u001b[39;00m \u001b[39mself\u001b[39;49m\u001b[39m.\u001b[39;49m_reader\u001b[39m.\u001b[39;49mparse(\n\u001b[0;32m   1630\u001b[0m         sheet_name\u001b[39m=\u001b[39;49msheet_name,\n\u001b[0;32m   1631\u001b[0m         header\u001b[39m=\u001b[39;49mheader,\n\u001b[0;32m   1632\u001b[0m         names\u001b[39m=\u001b[39;49mnames,\n\u001b[0;32m   1633\u001b[0m         index_col\u001b[39m=\u001b[39;49mindex_col,\n\u001b[0;32m   1634\u001b[0m         usecols\u001b[39m=\u001b[39;49musecols,\n\u001b[0;32m   1635\u001b[0m         converters\u001b[39m=\u001b[39;49mconverters,\n\u001b[0;32m   1636\u001b[0m         true_values\u001b[39m=\u001b[39;49mtrue_values,\n\u001b[0;32m   1637\u001b[0m         false_values\u001b[39m=\u001b[39;49mfalse_values,\n\u001b[0;32m   1638\u001b[0m         skiprows\u001b[39m=\u001b[39;49mskiprows,\n\u001b[0;32m   1639\u001b[0m         nrows\u001b[39m=\u001b[39;49mnrows,\n\u001b[0;32m   1640\u001b[0m         na_values\u001b[39m=\u001b[39;49mna_values,\n\u001b[0;32m   1641\u001b[0m         parse_dates\u001b[39m=\u001b[39;49mparse_dates,\n\u001b[0;32m   1642\u001b[0m         date_parser\u001b[39m=\u001b[39;49mdate_parser,\n\u001b[0;32m   1643\u001b[0m         date_format\u001b[39m=\u001b[39;49mdate_format,\n\u001b[0;32m   1644\u001b[0m         thousands\u001b[39m=\u001b[39;49mthousands,\n\u001b[0;32m   1645\u001b[0m         comment\u001b[39m=\u001b[39;49mcomment,\n\u001b[0;32m   1646\u001b[0m         skipfooter\u001b[39m=\u001b[39;49mskipfooter,\n\u001b[0;32m   1647\u001b[0m         dtype_backend\u001b[39m=\u001b[39;49mdtype_backend,\n\u001b[0;32m   1648\u001b[0m         \u001b[39m*\u001b[39;49m\u001b[39m*\u001b[39;49mkwds,\n\u001b[0;32m   1649\u001b[0m     )\n",
      "File \u001b[1;32mc:\\Users\\ebidr\\AppData\\Local\\Programs\\Python\\Python311\\Lib\\site-packages\\pandas\\io\\excel\\_base.py:793\u001b[0m, in \u001b[0;36mBaseExcelReader.parse\u001b[1;34m(self, sheet_name, header, names, index_col, usecols, dtype, true_values, false_values, skiprows, nrows, na_values, verbose, parse_dates, date_parser, date_format, thousands, decimal, comment, skipfooter, dtype_backend, **kwds)\u001b[0m\n\u001b[0;32m    790\u001b[0m     sheet \u001b[39m=\u001b[39m \u001b[39mself\u001b[39m\u001b[39m.\u001b[39mget_sheet_by_index(asheetname)\n\u001b[0;32m    792\u001b[0m file_rows_needed \u001b[39m=\u001b[39m \u001b[39mself\u001b[39m\u001b[39m.\u001b[39m_calc_rows(header, index_col, skiprows, nrows)\n\u001b[1;32m--> 793\u001b[0m data \u001b[39m=\u001b[39m \u001b[39mself\u001b[39;49m\u001b[39m.\u001b[39;49mget_sheet_data(sheet, file_rows_needed)\n\u001b[0;32m    794\u001b[0m \u001b[39mif\u001b[39;00m \u001b[39mhasattr\u001b[39m(sheet, \u001b[39m\"\u001b[39m\u001b[39mclose\u001b[39m\u001b[39m\"\u001b[39m):\n\u001b[0;32m    795\u001b[0m     \u001b[39m# pyxlsb opens two TemporaryFiles\u001b[39;00m\n\u001b[0;32m    796\u001b[0m     sheet\u001b[39m.\u001b[39mclose()\n",
      "File \u001b[1;32mc:\\Users\\ebidr\\AppData\\Local\\Programs\\Python\\Python311\\Lib\\site-packages\\pandas\\io\\excel\\_openpyxl.py:616\u001b[0m, in \u001b[0;36mOpenpyxlReader.get_sheet_data\u001b[1;34m(self, sheet, file_rows_needed)\u001b[0m\n\u001b[0;32m    614\u001b[0m data: \u001b[39mlist\u001b[39m[\u001b[39mlist\u001b[39m[Scalar]] \u001b[39m=\u001b[39m []\n\u001b[0;32m    615\u001b[0m last_row_with_data \u001b[39m=\u001b[39m \u001b[39m-\u001b[39m\u001b[39m1\u001b[39m\n\u001b[1;32m--> 616\u001b[0m \u001b[39mfor\u001b[39;00m row_number, row \u001b[39min\u001b[39;00m \u001b[39menumerate\u001b[39m(sheet\u001b[39m.\u001b[39mrows):\n\u001b[0;32m    617\u001b[0m     converted_row \u001b[39m=\u001b[39m [\u001b[39mself\u001b[39m\u001b[39m.\u001b[39m_convert_cell(cell) \u001b[39mfor\u001b[39;00m cell \u001b[39min\u001b[39;00m row]\n\u001b[0;32m    618\u001b[0m     \u001b[39mwhile\u001b[39;00m converted_row \u001b[39mand\u001b[39;00m converted_row[\u001b[39m-\u001b[39m\u001b[39m1\u001b[39m] \u001b[39m==\u001b[39m \u001b[39m\"\u001b[39m\u001b[39m\"\u001b[39m:\n\u001b[0;32m    619\u001b[0m         \u001b[39m# trim trailing empty elements\u001b[39;00m\n",
      "File \u001b[1;32mc:\\Users\\ebidr\\AppData\\Local\\Programs\\Python\\Python311\\Lib\\site-packages\\openpyxl\\worksheet\\_read_only.py:81\u001b[0m, in \u001b[0;36mReadOnlyWorksheet._cells_by_row\u001b[1;34m(self, min_col, min_row, max_col, max_row, values_only)\u001b[0m\n\u001b[0;32m     77\u001b[0m src \u001b[39m=\u001b[39m \u001b[39mself\u001b[39m\u001b[39m.\u001b[39m_get_source()\n\u001b[0;32m     78\u001b[0m parser \u001b[39m=\u001b[39m WorkSheetParser(src, \u001b[39mself\u001b[39m\u001b[39m.\u001b[39m_shared_strings,\n\u001b[0;32m     79\u001b[0m                          data_only\u001b[39m=\u001b[39m\u001b[39mself\u001b[39m\u001b[39m.\u001b[39mparent\u001b[39m.\u001b[39mdata_only, epoch\u001b[39m=\u001b[39m\u001b[39mself\u001b[39m\u001b[39m.\u001b[39mparent\u001b[39m.\u001b[39mepoch,\n\u001b[0;32m     80\u001b[0m                          date_formats\u001b[39m=\u001b[39m\u001b[39mself\u001b[39m\u001b[39m.\u001b[39mparent\u001b[39m.\u001b[39m_date_formats)\n\u001b[1;32m---> 81\u001b[0m \u001b[39mfor\u001b[39;00m idx, row \u001b[39min\u001b[39;00m parser\u001b[39m.\u001b[39mparse():\n\u001b[0;32m     82\u001b[0m     \u001b[39mif\u001b[39;00m max_row \u001b[39mis\u001b[39;00m \u001b[39mnot\u001b[39;00m \u001b[39mNone\u001b[39;00m \u001b[39mand\u001b[39;00m idx \u001b[39m>\u001b[39m max_row:\n\u001b[0;32m     83\u001b[0m         \u001b[39mbreak\u001b[39;00m\n",
      "File \u001b[1;32mc:\\Users\\ebidr\\AppData\\Local\\Programs\\Python\\Python311\\Lib\\site-packages\\openpyxl\\worksheet\\_reader.py:156\u001b[0m, in \u001b[0;36mWorkSheetParser.parse\u001b[1;34m(self)\u001b[0m\n\u001b[0;32m    137\u001b[0m properties \u001b[39m=\u001b[39m {\n\u001b[0;32m    138\u001b[0m     PRINT_TAG: (\u001b[39m'\u001b[39m\u001b[39mprint_options\u001b[39m\u001b[39m'\u001b[39m, PrintOptions),\n\u001b[0;32m    139\u001b[0m     MARGINS_TAG: (\u001b[39m'\u001b[39m\u001b[39mpage_margins\u001b[39m\u001b[39m'\u001b[39m, PageMargins),\n\u001b[1;32m   (...)\u001b[0m\n\u001b[0;32m    151\u001b[0m \n\u001b[0;32m    152\u001b[0m }\n\u001b[0;32m    154\u001b[0m it \u001b[39m=\u001b[39m iterparse(\u001b[39mself\u001b[39m\u001b[39m.\u001b[39msource) \u001b[39m# add a finaliser to close the source when this becomes possible\u001b[39;00m\n\u001b[1;32m--> 156\u001b[0m \u001b[39mfor\u001b[39;00m _, element \u001b[39min\u001b[39;00m it:\n\u001b[0;32m    157\u001b[0m     tag_name \u001b[39m=\u001b[39m element\u001b[39m.\u001b[39mtag\n\u001b[0;32m    158\u001b[0m     \u001b[39mif\u001b[39;00m tag_name \u001b[39min\u001b[39;00m dispatcher:\n",
      "File \u001b[1;32mc:\\Users\\ebidr\\AppData\\Local\\Programs\\Python\\Python311\\Lib\\xml\\etree\\ElementTree.py:1251\u001b[0m, in \u001b[0;36miterparse.<locals>.iterator\u001b[1;34m(source)\u001b[0m\n\u001b[0;32m   1249\u001b[0m \u001b[39myield from\u001b[39;00m pullparser\u001b[39m.\u001b[39mread_events()\n\u001b[0;32m   1250\u001b[0m \u001b[39m# load event buffer\u001b[39;00m\n\u001b[1;32m-> 1251\u001b[0m data \u001b[39m=\u001b[39m source\u001b[39m.\u001b[39;49mread(\u001b[39m16\u001b[39;49m \u001b[39m*\u001b[39;49m \u001b[39m1024\u001b[39;49m)\n\u001b[0;32m   1252\u001b[0m \u001b[39mif\u001b[39;00m \u001b[39mnot\u001b[39;00m data:\n\u001b[0;32m   1253\u001b[0m     \u001b[39mbreak\u001b[39;00m\n",
      "File \u001b[1;32mc:\\Users\\ebidr\\AppData\\Local\\Programs\\Python\\Python311\\Lib\\zipfile.py:955\u001b[0m, in \u001b[0;36mZipExtFile.read\u001b[1;34m(self, n)\u001b[0m\n\u001b[0;32m    953\u001b[0m \u001b[39mself\u001b[39m\u001b[39m.\u001b[39m_offset \u001b[39m=\u001b[39m \u001b[39m0\u001b[39m\n\u001b[0;32m    954\u001b[0m \u001b[39mwhile\u001b[39;00m n \u001b[39m>\u001b[39m \u001b[39m0\u001b[39m \u001b[39mand\u001b[39;00m \u001b[39mnot\u001b[39;00m \u001b[39mself\u001b[39m\u001b[39m.\u001b[39m_eof:\n\u001b[1;32m--> 955\u001b[0m     data \u001b[39m=\u001b[39m \u001b[39mself\u001b[39;49m\u001b[39m.\u001b[39;49m_read1(n)\n\u001b[0;32m    956\u001b[0m     \u001b[39mif\u001b[39;00m n \u001b[39m<\u001b[39m \u001b[39mlen\u001b[39m(data):\n\u001b[0;32m    957\u001b[0m         \u001b[39mself\u001b[39m\u001b[39m.\u001b[39m_readbuffer \u001b[39m=\u001b[39m data\n",
      "File \u001b[1;32mc:\\Users\\ebidr\\AppData\\Local\\Programs\\Python\\Python311\\Lib\\zipfile.py:1031\u001b[0m, in \u001b[0;36mZipExtFile._read1\u001b[1;34m(self, n)\u001b[0m\n\u001b[0;32m   1029\u001b[0m \u001b[39melif\u001b[39;00m \u001b[39mself\u001b[39m\u001b[39m.\u001b[39m_compress_type \u001b[39m==\u001b[39m ZIP_DEFLATED:\n\u001b[0;32m   1030\u001b[0m     n \u001b[39m=\u001b[39m \u001b[39mmax\u001b[39m(n, \u001b[39mself\u001b[39m\u001b[39m.\u001b[39mMIN_READ_SIZE)\n\u001b[1;32m-> 1031\u001b[0m     data \u001b[39m=\u001b[39m \u001b[39mself\u001b[39;49m\u001b[39m.\u001b[39;49m_decompressor\u001b[39m.\u001b[39;49mdecompress(data, n)\n\u001b[0;32m   1032\u001b[0m     \u001b[39mself\u001b[39m\u001b[39m.\u001b[39m_eof \u001b[39m=\u001b[39m (\u001b[39mself\u001b[39m\u001b[39m.\u001b[39m_decompressor\u001b[39m.\u001b[39meof \u001b[39mor\u001b[39;00m\n\u001b[0;32m   1033\u001b[0m                  \u001b[39mself\u001b[39m\u001b[39m.\u001b[39m_compress_left \u001b[39m<\u001b[39m\u001b[39m=\u001b[39m \u001b[39m0\u001b[39m \u001b[39mand\u001b[39;00m\n\u001b[0;32m   1034\u001b[0m                  \u001b[39mnot\u001b[39;00m \u001b[39mself\u001b[39m\u001b[39m.\u001b[39m_decompressor\u001b[39m.\u001b[39munconsumed_tail)\n\u001b[0;32m   1035\u001b[0m     \u001b[39mif\u001b[39;00m \u001b[39mself\u001b[39m\u001b[39m.\u001b[39m_eof:\n",
      "\u001b[1;31mKeyboardInterrupt\u001b[0m: "
     ]
    }
   ],
   "source": [
    "\n",
    "import os\n",
    "import pandas as pd\n",
    "from pathlib import Path\n",
    "\n",
    "# from date_conversion import generate_jalali_date_range\n",
    "\n",
    "\n",
    "\n",
    "\n",
    "# Cleaning Function\n",
    "\n",
    "\n",
    "def clean_combine_data(start_date,end_date):\n",
    "    # generate_jalali_date_range(start_date,end_date)\n",
    "    data_dir = list(Path(\"./tsetmcdata\").glob(\"*.xlsx\"))\n",
    "\n",
    "    all_data = pd.concat([pd.read_excel(f, skiprows=1, header=1)\n",
    "                          for f in data_dir], ignore_index=True)\n",
    "    # Replacing with \"ی\" and \" ک\"\n",
    "    all_data.replace(to_replace=[\"ي\", \"ك\"], value=[\n",
    "        \"ی\", \"ک\"], regex=True, inplace=True)\n",
    "    return all_data\n",
    "\n",
    "\n",
    "clean_combine_data(\"1401-01-01\",\"1402-01-01\")"
   ]
  },
  {
   "cell_type": "code",
   "execution_count": null,
   "id": "8b12e2c5",
   "metadata": {},
   "outputs": [],
   "source": [
    "from jdatetime import date, timedelta\n",
    "def generate_jalali_date_range(start_date_str_jalali:str, end_date_str_jalali:str):\n",
    "    '''Generate a list of Jalali dates for download function'''\n",
    "    # Split the Jalali date strings into year, month, and day components\n",
    "    start_year, start_month, start_day = map(\n",
    "        int, start_date_str_jalali.split(\"-\"))\n",
    "    end_year, end_month, end_day = map(int, end_date_str_jalali.split(\"-\"))\n",
    "\n",
    "    # Convert the Jalali start and end dates to jdatetime.date objects\n",
    "    start_date = date(start_year, start_month, start_day)\n",
    "    end_date = date(end_year, end_month, end_day)\n",
    "\n",
    "    # Initialize a list to store the generated Jalali dates\n",
    "    jalali_dates = []\n",
    "\n",
    "    # Generate dates in the specified range\n",
    "    current_date = start_date\n",
    "    while current_date <= end_date:\n",
    "        jalali_dates.append(date.isoformat(current_date)\n",
    "                            )  # Append the Jalali date\n",
    "        current_date += timedelta(days=1)\n",
    "\n",
    "    return jalali_dates\n",
    "\n",
    "\n",
    "generate_jalali_date_range(\"1401-01-01\",\"1402-01-01\")"
   ]
  },
  {
   "cell_type": "code",
   "execution_count": null,
   "id": "3f73f954",
   "metadata": {},
   "outputs": [],
   "source": []
  },
  {
   "cell_type": "code",
   "execution_count": null,
   "id": "8a6af84f",
   "metadata": {},
   "outputs": [],
   "source": []
  },
  {
   "cell_type": "code",
   "execution_count": null,
   "id": "b6bc7721",
   "metadata": {},
   "outputs": [],
   "source": [
    "\n",
    "\n",
    "# df.head()\n",
    "# Finding the option trades\n",
    "option_df=df[df[\"نام\"].str.strip().str.startswith(\"اختیار\")]\n",
    "option_df=option_df[~option_df[\"نماد\"].str.strip().str.startswith(\"ه\")]\n",
    "# option_df\n",
    "\n",
    "# Split the \"نام\" column based on space \" \" separator into three columns\n",
    "option_df[['A', 'قیمت اعمال', 'تاریخ اعمال']] = option_df[\"نام\"].str.split(\"-\", expand=True)\n",
    "option_df[[\"نوع\",\"دارایی پایه\"]]=option_df[\"A\"].str.split(\" \",n=1,expand=True)\n",
    "# Display the resulting DataFrame\n",
    "option_df=option_df[[\"نماد\",\"قیمت اعمال\",\"تاریخ اعمال\",\"دارایی پایه\",\"نوع\",\"تعداد\",\"حجم\",\"ارزش\",\"آخرین معامله - مقدار\",\"نام\"]]\n",
    "option_df"
   ]
  },
  {
   "cell_type": "code",
   "execution_count": null,
   "id": "0f11e0cb",
   "metadata": {},
   "outputs": [
    {
     "ename": "NameError",
     "evalue": "name 'generate_jalali_date_range' is not defined",
     "output_type": "error",
     "traceback": [
      "\u001b[1;31m---------------------------------------------------------------------------\u001b[0m",
      "\u001b[1;31mNameError\u001b[0m                                 Traceback (most recent call last)",
      "\u001b[1;32mc:\\Users\\ebidr\\Documents\\Option-Market\\Test notebook.ipynb Cell 8\u001b[0m line \u001b[0;36m1\n\u001b[0;32m      <a href='vscode-notebook-cell:/c%3A/Users/ebidr/Documents/Option-Market/Test%20notebook.ipynb#X10sZmlsZQ%3D%3D?line=7'>8</a>\u001b[0m     all_data\u001b[39m.\u001b[39mreplace(to_replace\u001b[39m=\u001b[39m[\u001b[39m\"\u001b[39m\u001b[39mي\u001b[39m\u001b[39m\"\u001b[39m, \u001b[39m\"\u001b[39m\u001b[39mك\u001b[39m\u001b[39m\"\u001b[39m], value\u001b[39m=\u001b[39m[\n\u001b[0;32m      <a href='vscode-notebook-cell:/c%3A/Users/ebidr/Documents/Option-Market/Test%20notebook.ipynb#X10sZmlsZQ%3D%3D?line=8'>9</a>\u001b[0m         \u001b[39m\"\u001b[39m\u001b[39mی\u001b[39m\u001b[39m\"\u001b[39m, \u001b[39m\"\u001b[39m\u001b[39mک\u001b[39m\u001b[39m\"\u001b[39m], regex\u001b[39m=\u001b[39m\u001b[39mTrue\u001b[39;00m, inplace\u001b[39m=\u001b[39m\u001b[39mTrue\u001b[39;00m)\n\u001b[0;32m     <a href='vscode-notebook-cell:/c%3A/Users/ebidr/Documents/Option-Market/Test%20notebook.ipynb#X10sZmlsZQ%3D%3D?line=9'>10</a>\u001b[0m     \u001b[39mreturn\u001b[39;00m all_data\n\u001b[1;32m---> <a href='vscode-notebook-cell:/c%3A/Users/ebidr/Documents/Option-Market/Test%20notebook.ipynb#X10sZmlsZQ%3D%3D?line=12'>13</a>\u001b[0m clean_combine_data(\u001b[39m\"\u001b[39;49m\u001b[39m1401-01-01\u001b[39;49m\u001b[39m\"\u001b[39;49m, \u001b[39m\"\u001b[39;49m\u001b[39m1402-01-01\u001b[39;49m\u001b[39m\"\u001b[39;49m)\n",
      "\u001b[1;32mc:\\Users\\ebidr\\Documents\\Option-Market\\Test notebook.ipynb Cell 8\u001b[0m line \u001b[0;36m2\n\u001b[0;32m      <a href='vscode-notebook-cell:/c%3A/Users/ebidr/Documents/Option-Market/Test%20notebook.ipynb#X10sZmlsZQ%3D%3D?line=0'>1</a>\u001b[0m \u001b[39mdef\u001b[39;00m \u001b[39mclean_combine_data\u001b[39m(start_date, end_date):\n\u001b[1;32m----> <a href='vscode-notebook-cell:/c%3A/Users/ebidr/Documents/Option-Market/Test%20notebook.ipynb#X10sZmlsZQ%3D%3D?line=1'>2</a>\u001b[0m     date_list\u001b[39m=\u001b[39mgenerate_jalali_date_range(start_date, end_date)\n\u001b[0;32m      <a href='vscode-notebook-cell:/c%3A/Users/ebidr/Documents/Option-Market/Test%20notebook.ipynb#X10sZmlsZQ%3D%3D?line=2'>3</a>\u001b[0m     data_dir \u001b[39m=\u001b[39m \u001b[39mlist\u001b[39m(Path(\u001b[39m\"\u001b[39m\u001b[39m./tsetmcdata\u001b[39m\u001b[39m\"\u001b[39m)\u001b[39m.\u001b[39mglob(\u001b[39mf\u001b[39m\u001b[39m\"\u001b[39m\u001b[39m{\u001b[39;00mdate_list\u001b[39m}\u001b[39;00m\u001b[39m.xlsx\u001b[39m\u001b[39m\"\u001b[39m))\n\u001b[0;32m      <a href='vscode-notebook-cell:/c%3A/Users/ebidr/Documents/Option-Market/Test%20notebook.ipynb#X10sZmlsZQ%3D%3D?line=4'>5</a>\u001b[0m     all_data \u001b[39m=\u001b[39m pd\u001b[39m.\u001b[39mconcat([pd\u001b[39m.\u001b[39mread_excel(f, skiprows\u001b[39m=\u001b[39m\u001b[39m1\u001b[39m, header\u001b[39m=\u001b[39m\u001b[39m1\u001b[39m)\n\u001b[0;32m      <a href='vscode-notebook-cell:/c%3A/Users/ebidr/Documents/Option-Market/Test%20notebook.ipynb#X10sZmlsZQ%3D%3D?line=5'>6</a>\u001b[0m                           \u001b[39mfor\u001b[39;00m f \u001b[39min\u001b[39;00m data_dir], ignore_index\u001b[39m=\u001b[39m\u001b[39mTrue\u001b[39;00m)\n",
      "\u001b[1;31mNameError\u001b[0m: name 'generate_jalali_date_range' is not defined"
     ]
    }
   ],
   "source": [
    "\n",
    "def clean_combine_data(start_date, end_date):\n",
    "    date_list=generate_jalali_date_range(start_date, end_date)\n",
    "    data_dir = list(Path(\"./tsetmcdata\").glob(f\"{date_list}.xlsx\"))\n",
    "\n",
    "    all_data = pd.concat([pd.read_excel(f, skiprows=1, header=1)\n",
    "                          for f in data_dir], ignore_index=True)\n",
    "    # Replacing with \"ی\" and \" ک\"\n",
    "    all_data.replace(to_replace=[\"ي\", \"ك\"], value=[\n",
    "        \"ی\", \"ک\"], regex=True, inplace=True)\n",
    "    return all_data\n",
    "\n",
    "\n",
    "clean_combine_data(\"1401-01-01\", \"1402-01-01\")"
   ]
  },
  {
   "cell_type": "code",
   "execution_count": null,
   "id": "c9800c5c",
   "metadata": {},
   "outputs": [],
   "source": []
  }
 ],
 "metadata": {
  "kernelspec": {
   "display_name": "Python 3 (ipykernel)",
   "language": "python",
   "name": "python3"
  },
  "language_info": {
   "codemirror_mode": {
    "name": "ipython",
    "version": 3
   },
   "file_extension": ".py",
   "mimetype": "text/x-python",
   "name": "python",
   "nbconvert_exporter": "python",
   "pygments_lexer": "ipython3",
   "version": "3.11.5"
  }
 },
 "nbformat": 4,
 "nbformat_minor": 5
}
