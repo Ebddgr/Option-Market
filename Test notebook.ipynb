{
 "cells": [
  {
   "cell_type": "code",
<<<<<<< HEAD
   "execution_count": 10,
=======
   "execution_count": null,
>>>>>>> efbffb527b86a78ed710d40c1f9ff140c4f45e7a
   "id": "1f132fb4",
   "metadata": {},
   "outputs": [],
   "source": [
    "import os\n",
    "import sys\n",
    "sys.path.append('./Py-tsetmc/ ')\n",
    "# Cleaning the Data\n",
    "import pandas as pd\n"
   ]
  },
  {
   "cell_type": "code",
<<<<<<< HEAD
   "execution_count": 11,
=======
   "execution_count": null,
>>>>>>> efbffb527b86a78ed710d40c1f9ff140c4f45e7a
   "id": "a77aa1af",
   "metadata": {},
   "outputs": [],
   "source": [
    "\n",
    "# Read the Excel file\n",
    "# df = pd.read_excel(\"./tsetmcdata/14020701.xlsx\", skiprows=1, header=1)\n",
    "\n",
    "def clean_data(date):\n",
    "    # Replace \"ي\" and \"\" with \"ی\" and \" \"respectively: \n",
    "    date.replace(to_replace=[\"ي\", \"ك\"], value=[\"ی\", \"ک\"],regex=True,inplace=True)\n",
    "    return date\n",
    "# clean_data(df)\n",
    "\n"
   ]
  },
  {
   "cell_type": "code",
<<<<<<< HEAD
   "execution_count": 12,
   "id": "5c74477f",
   "metadata": {},
   "outputs": [
    {
     "ename": "ModuleNotFoundError",
     "evalue": "No module named 'date_conversion'",
     "output_type": "error",
     "traceback": [
      "\u001b[1;31m---------------------------------------------------------------------------\u001b[0m",
      "\u001b[1;31mModuleNotFoundError\u001b[0m                       Traceback (most recent call last)",
      "\u001b[1;32mc:\\Users\\ebidr\\Documents\\Option-Market\\Test notebook.ipynb Cell 3\u001b[0m line \u001b[0;36m5\n\u001b[0;32m      <a href='vscode-notebook-cell:/c%3A/Users/ebidr/Documents/Option-Market/Test%20notebook.ipynb#W2sZmlsZQ%3D%3D?line=1'>2</a>\u001b[0m \u001b[39mimport\u001b[39;00m \u001b[39mpandas\u001b[39;00m \u001b[39mas\u001b[39;00m \u001b[39mpd\u001b[39;00m\n\u001b[0;32m      <a href='vscode-notebook-cell:/c%3A/Users/ebidr/Documents/Option-Market/Test%20notebook.ipynb#W2sZmlsZQ%3D%3D?line=2'>3</a>\u001b[0m \u001b[39mfrom\u001b[39;00m \u001b[39mpathlib\u001b[39;00m \u001b[39mimport\u001b[39;00m Path\n\u001b[1;32m----> <a href='vscode-notebook-cell:/c%3A/Users/ebidr/Documents/Option-Market/Test%20notebook.ipynb#W2sZmlsZQ%3D%3D?line=4'>5</a>\u001b[0m \u001b[39mfrom\u001b[39;00m \u001b[39mdate_conversion\u001b[39;00m \u001b[39mimport\u001b[39;00m generate_jalali_date_range\n\u001b[0;32m     <a href='vscode-notebook-cell:/c%3A/Users/ebidr/Documents/Option-Market/Test%20notebook.ipynb#W2sZmlsZQ%3D%3D?line=9'>10</a>\u001b[0m \u001b[39m# Cleaning Function\u001b[39;00m\n\u001b[0;32m     <a href='vscode-notebook-cell:/c%3A/Users/ebidr/Documents/Option-Market/Test%20notebook.ipynb#W2sZmlsZQ%3D%3D?line=12'>13</a>\u001b[0m \u001b[39mdef\u001b[39;00m \u001b[39mclean_combine_data\u001b[39m(start_date,end_date):\n",
      "\u001b[1;31mModuleNotFoundError\u001b[0m: No module named 'date_conversion'"
     ]
    }
   ],
=======
   "execution_count": null,
   "id": "5c74477f",
   "metadata": {},
   "outputs": [],
>>>>>>> efbffb527b86a78ed710d40c1f9ff140c4f45e7a
   "source": [
    "\n",
    "import os\n",
    "import pandas as pd\n",
    "from pathlib import Path\n",
    "\n",
    "from date_conversion import generate_jalali_date_range\n",
    "\n",
    "\n",
    "\n",
    "\n",
    "# Cleaning Function\n",
    "\n",
    "\n",
    "def clean_combine_data(start_date,end_date):\n",
    "    generate_jalali_date_range(start_date,end_date)\n",
    "    data_dir = list(Path(\"./tsetmcdata\").glob(\"*.xlsx\"))\n",
    "\n",
    "    all_data = pd.concat([pd.read_excel(f, skiprows=1, header=1)\n",
    "                          for f in data_dir], ignore_index=True)\n",
    "    # Replacing with \"ی\" and \" ک\"\n",
    "    all_data.replace(to_replace=[\"ي\", \"ك\"], value=[\n",
    "        \"ی\", \"ک\"], regex=True, inplace=True)\n",
    "    return all_data\n",
    "\n",
    "\n",
    "clean_combine_data(\"1401-01-01\",\"1402-01-01\")"
   ]
  },
  {
   "cell_type": "code",
   "execution_count": null,
   "id": "8b12e2c5",
   "metadata": {},
   "outputs": [],
   "source": [
    "from jdatetime import date, timedelta\n",
    "def generate_jalali_date_range(start_date_str_jalali:str, end_date_str_jalali:str):\n",
    "    '''Generate a list of Jalali dates for download function'''\n",
    "    # Split the Jalali date strings into year, month, and day components\n",
    "    start_year, start_month, start_day = map(\n",
    "        int, start_date_str_jalali.split(\"-\"))\n",
    "    end_year, end_month, end_day = map(int, end_date_str_jalali.split(\"-\"))\n",
    "\n",
    "    # Convert the Jalali start and end dates to jdatetime.date objects\n",
    "    start_date = date(start_year, start_month, start_day)\n",
    "    end_date = date(end_year, end_month, end_day)\n",
    "\n",
    "    # Initialize a list to store the generated Jalali dates\n",
    "    jalali_dates = []\n",
    "\n",
    "    # Generate dates in the specified range\n",
    "    current_date = start_date\n",
    "    while current_date <= end_date:\n",
    "        jalali_dates.append(date.isoformat(current_date)\n",
    "                            )  # Append the Jalali date\n",
    "        current_date += timedelta(days=1)\n",
    "\n",
    "    return jalali_dates\n",
    "\n",
    "\n",
    "generate_jalali_date_range(\"1401-01-01\",\"1402-01-01\")"
   ]
  },
  {
   "cell_type": "code",
   "execution_count": null,
   "id": "3f73f954",
   "metadata": {},
   "outputs": [],
   "source": []
  },
  {
   "cell_type": "code",
   "execution_count": null,
   "id": "8a6af84f",
   "metadata": {},
   "outputs": [],
   "source": []
  },
  {
   "cell_type": "code",
   "execution_count": null,
   "id": "b6bc7721",
   "metadata": {},
   "outputs": [],
   "source": [
    "\n",
    "\n",
    "# df.head()\n",
    "# Finding the option trades\n",
    "option_df=df[df[\"نام\"].str.strip().str.startswith(\"اختیار\")]\n",
    "option_df=option_df[~option_df[\"نماد\"].str.strip().str.startswith(\"ه\")]\n",
    "# option_df\n",
    "\n",
    "# Split the \"نام\" column based on space \" \" separator into three columns\n",
    "option_df[['A', 'قیمت اعمال', 'تاریخ اعمال']] = option_df[\"نام\"].str.split(\"-\", expand=True)\n",
    "option_df[[\"نوع\",\"دارایی پایه\"]]=option_df[\"A\"].str.split(\" \",n=1,expand=True)\n",
    "# Display the resulting DataFrame\n",
    "option_df=option_df[[\"نماد\",\"قیمت اعمال\",\"تاریخ اعمال\",\"دارایی پایه\",\"نوع\",\"تعداد\",\"حجم\",\"ارزش\",\"آخرین معامله - مقدار\",\"نام\"]]\n",
    "option_df"
   ]
  },
  {
   "cell_type": "code",
<<<<<<< HEAD
   "execution_count": null,
=======
   "execution_count": 44,
>>>>>>> efbffb527b86a78ed710d40c1f9ff140c4f45e7a
   "id": "0f11e0cb",
   "metadata": {},
   "outputs": [
    {
<<<<<<< HEAD
     "ename": "NameError",
     "evalue": "name 'generate_jalali_date_range' is not defined",
     "output_type": "error",
     "traceback": [
      "\u001b[1;31m---------------------------------------------------------------------------\u001b[0m",
      "\u001b[1;31mNameError\u001b[0m                                 Traceback (most recent call last)",
      "\u001b[1;32mc:\\Users\\ebidr\\Documents\\Option-Market\\Test notebook.ipynb Cell 8\u001b[0m line \u001b[0;36m1\n\u001b[0;32m      <a href='vscode-notebook-cell:/c%3A/Users/ebidr/Documents/Option-Market/Test%20notebook.ipynb#X10sZmlsZQ%3D%3D?line=7'>8</a>\u001b[0m     all_data\u001b[39m.\u001b[39mreplace(to_replace\u001b[39m=\u001b[39m[\u001b[39m\"\u001b[39m\u001b[39mي\u001b[39m\u001b[39m\"\u001b[39m, \u001b[39m\"\u001b[39m\u001b[39mك\u001b[39m\u001b[39m\"\u001b[39m], value\u001b[39m=\u001b[39m[\n\u001b[0;32m      <a href='vscode-notebook-cell:/c%3A/Users/ebidr/Documents/Option-Market/Test%20notebook.ipynb#X10sZmlsZQ%3D%3D?line=8'>9</a>\u001b[0m         \u001b[39m\"\u001b[39m\u001b[39mی\u001b[39m\u001b[39m\"\u001b[39m, \u001b[39m\"\u001b[39m\u001b[39mک\u001b[39m\u001b[39m\"\u001b[39m], regex\u001b[39m=\u001b[39m\u001b[39mTrue\u001b[39;00m, inplace\u001b[39m=\u001b[39m\u001b[39mTrue\u001b[39;00m)\n\u001b[0;32m     <a href='vscode-notebook-cell:/c%3A/Users/ebidr/Documents/Option-Market/Test%20notebook.ipynb#X10sZmlsZQ%3D%3D?line=9'>10</a>\u001b[0m     \u001b[39mreturn\u001b[39;00m all_data\n\u001b[1;32m---> <a href='vscode-notebook-cell:/c%3A/Users/ebidr/Documents/Option-Market/Test%20notebook.ipynb#X10sZmlsZQ%3D%3D?line=12'>13</a>\u001b[0m clean_combine_data(\u001b[39m\"\u001b[39;49m\u001b[39m1401-01-01\u001b[39;49m\u001b[39m\"\u001b[39;49m, \u001b[39m\"\u001b[39;49m\u001b[39m1402-01-01\u001b[39;49m\u001b[39m\"\u001b[39;49m)\n",
      "\u001b[1;32mc:\\Users\\ebidr\\Documents\\Option-Market\\Test notebook.ipynb Cell 8\u001b[0m line \u001b[0;36m2\n\u001b[0;32m      <a href='vscode-notebook-cell:/c%3A/Users/ebidr/Documents/Option-Market/Test%20notebook.ipynb#X10sZmlsZQ%3D%3D?line=0'>1</a>\u001b[0m \u001b[39mdef\u001b[39;00m \u001b[39mclean_combine_data\u001b[39m(start_date, end_date):\n\u001b[1;32m----> <a href='vscode-notebook-cell:/c%3A/Users/ebidr/Documents/Option-Market/Test%20notebook.ipynb#X10sZmlsZQ%3D%3D?line=1'>2</a>\u001b[0m     date_list\u001b[39m=\u001b[39mgenerate_jalali_date_range(start_date, end_date)\n\u001b[0;32m      <a href='vscode-notebook-cell:/c%3A/Users/ebidr/Documents/Option-Market/Test%20notebook.ipynb#X10sZmlsZQ%3D%3D?line=2'>3</a>\u001b[0m     data_dir \u001b[39m=\u001b[39m \u001b[39mlist\u001b[39m(Path(\u001b[39m\"\u001b[39m\u001b[39m./tsetmcdata\u001b[39m\u001b[39m\"\u001b[39m)\u001b[39m.\u001b[39mglob(\u001b[39mf\u001b[39m\u001b[39m\"\u001b[39m\u001b[39m{\u001b[39;00mdate_list\u001b[39m}\u001b[39;00m\u001b[39m.xlsx\u001b[39m\u001b[39m\"\u001b[39m))\n\u001b[0;32m      <a href='vscode-notebook-cell:/c%3A/Users/ebidr/Documents/Option-Market/Test%20notebook.ipynb#X10sZmlsZQ%3D%3D?line=4'>5</a>\u001b[0m     all_data \u001b[39m=\u001b[39m pd\u001b[39m.\u001b[39mconcat([pd\u001b[39m.\u001b[39mread_excel(f, skiprows\u001b[39m=\u001b[39m\u001b[39m1\u001b[39m, header\u001b[39m=\u001b[39m\u001b[39m1\u001b[39m)\n\u001b[0;32m      <a href='vscode-notebook-cell:/c%3A/Users/ebidr/Documents/Option-Market/Test%20notebook.ipynb#X10sZmlsZQ%3D%3D?line=5'>6</a>\u001b[0m                           \u001b[39mfor\u001b[39;00m f \u001b[39min\u001b[39;00m data_dir], ignore_index\u001b[39m=\u001b[39m\u001b[39mTrue\u001b[39;00m)\n",
      "\u001b[1;31mNameError\u001b[0m: name 'generate_jalali_date_range' is not defined"
=======
     "ename": "ValueError",
     "evalue": "No objects to concatenate",
     "output_type": "error",
     "traceback": [
      "\u001b[1;31m---------------------------------------------------------------------------\u001b[0m",
      "\u001b[1;31mValueError\u001b[0m                                Traceback (most recent call last)",
      "\u001b[1;32mc:\\Users\\ebidr\\Documents\\Option-Market\\Test notebook.ipynb Cell 8\u001b[0m line \u001b[0;36m1\n\u001b[0;32m      <a href='vscode-notebook-cell:/c%3A/Users/ebidr/Documents/Option-Market/Test%20notebook.ipynb#X10sZmlsZQ%3D%3D?line=7'>8</a>\u001b[0m     all_data\u001b[39m.\u001b[39mreplace(to_replace\u001b[39m=\u001b[39m[\u001b[39m\"\u001b[39m\u001b[39mي\u001b[39m\u001b[39m\"\u001b[39m, \u001b[39m\"\u001b[39m\u001b[39mك\u001b[39m\u001b[39m\"\u001b[39m], value\u001b[39m=\u001b[39m[\n\u001b[0;32m      <a href='vscode-notebook-cell:/c%3A/Users/ebidr/Documents/Option-Market/Test%20notebook.ipynb#X10sZmlsZQ%3D%3D?line=8'>9</a>\u001b[0m         \u001b[39m\"\u001b[39m\u001b[39mی\u001b[39m\u001b[39m\"\u001b[39m, \u001b[39m\"\u001b[39m\u001b[39mک\u001b[39m\u001b[39m\"\u001b[39m], regex\u001b[39m=\u001b[39m\u001b[39mTrue\u001b[39;00m, inplace\u001b[39m=\u001b[39m\u001b[39mTrue\u001b[39;00m)\n\u001b[0;32m     <a href='vscode-notebook-cell:/c%3A/Users/ebidr/Documents/Option-Market/Test%20notebook.ipynb#X10sZmlsZQ%3D%3D?line=9'>10</a>\u001b[0m     \u001b[39mreturn\u001b[39;00m all_data\n\u001b[1;32m---> <a href='vscode-notebook-cell:/c%3A/Users/ebidr/Documents/Option-Market/Test%20notebook.ipynb#X10sZmlsZQ%3D%3D?line=12'>13</a>\u001b[0m clean_combine_data(\u001b[39m\"\u001b[39;49m\u001b[39m1401-01-01\u001b[39;49m\u001b[39m\"\u001b[39;49m, \u001b[39m\"\u001b[39;49m\u001b[39m1402-01-01\u001b[39;49m\u001b[39m\"\u001b[39;49m)\n",
      "\u001b[1;32mc:\\Users\\ebidr\\Documents\\Option-Market\\Test notebook.ipynb Cell 8\u001b[0m line \u001b[0;36m5\n\u001b[0;32m      <a href='vscode-notebook-cell:/c%3A/Users/ebidr/Documents/Option-Market/Test%20notebook.ipynb#X10sZmlsZQ%3D%3D?line=1'>2</a>\u001b[0m date_list\u001b[39m=\u001b[39mgenerate_jalali_date_range(start_date, end_date)\n\u001b[0;32m      <a href='vscode-notebook-cell:/c%3A/Users/ebidr/Documents/Option-Market/Test%20notebook.ipynb#X10sZmlsZQ%3D%3D?line=2'>3</a>\u001b[0m data_dir \u001b[39m=\u001b[39m \u001b[39mlist\u001b[39m(Path(\u001b[39m\"\u001b[39m\u001b[39m./tsetmcdata\u001b[39m\u001b[39m\"\u001b[39m)\u001b[39m.\u001b[39mglob(\u001b[39mf\u001b[39m\u001b[39m\"\u001b[39m\u001b[39m{\u001b[39;00mdate_list\u001b[39m}\u001b[39;00m\u001b[39m.xlsx\u001b[39m\u001b[39m\"\u001b[39m))\n\u001b[1;32m----> <a href='vscode-notebook-cell:/c%3A/Users/ebidr/Documents/Option-Market/Test%20notebook.ipynb#X10sZmlsZQ%3D%3D?line=4'>5</a>\u001b[0m all_data \u001b[39m=\u001b[39m pd\u001b[39m.\u001b[39;49mconcat([pd\u001b[39m.\u001b[39;49mread_excel(f, skiprows\u001b[39m=\u001b[39;49m\u001b[39m1\u001b[39;49m, header\u001b[39m=\u001b[39;49m\u001b[39m1\u001b[39;49m)\n\u001b[0;32m      <a href='vscode-notebook-cell:/c%3A/Users/ebidr/Documents/Option-Market/Test%20notebook.ipynb#X10sZmlsZQ%3D%3D?line=5'>6</a>\u001b[0m                       \u001b[39mfor\u001b[39;49;00m f \u001b[39min\u001b[39;49;00m data_dir], ignore_index\u001b[39m=\u001b[39;49m\u001b[39mTrue\u001b[39;49;00m)\n\u001b[0;32m      <a href='vscode-notebook-cell:/c%3A/Users/ebidr/Documents/Option-Market/Test%20notebook.ipynb#X10sZmlsZQ%3D%3D?line=6'>7</a>\u001b[0m \u001b[39m# Replacing with \"ی\" and \" ک\"\u001b[39;00m\n\u001b[0;32m      <a href='vscode-notebook-cell:/c%3A/Users/ebidr/Documents/Option-Market/Test%20notebook.ipynb#X10sZmlsZQ%3D%3D?line=7'>8</a>\u001b[0m all_data\u001b[39m.\u001b[39mreplace(to_replace\u001b[39m=\u001b[39m[\u001b[39m\"\u001b[39m\u001b[39mي\u001b[39m\u001b[39m\"\u001b[39m, \u001b[39m\"\u001b[39m\u001b[39mك\u001b[39m\u001b[39m\"\u001b[39m], value\u001b[39m=\u001b[39m[\n\u001b[0;32m      <a href='vscode-notebook-cell:/c%3A/Users/ebidr/Documents/Option-Market/Test%20notebook.ipynb#X10sZmlsZQ%3D%3D?line=8'>9</a>\u001b[0m     \u001b[39m\"\u001b[39m\u001b[39mی\u001b[39m\u001b[39m\"\u001b[39m, \u001b[39m\"\u001b[39m\u001b[39mک\u001b[39m\u001b[39m\"\u001b[39m], regex\u001b[39m=\u001b[39m\u001b[39mTrue\u001b[39;00m, inplace\u001b[39m=\u001b[39m\u001b[39mTrue\u001b[39;00m)\n",
      "File \u001b[1;32mc:\\Users\\ebidr\\AppData\\Local\\Programs\\Python\\Python311\\Lib\\site-packages\\pandas\\core\\reshape\\concat.py:380\u001b[0m, in \u001b[0;36mconcat\u001b[1;34m(objs, axis, join, ignore_index, keys, levels, names, verify_integrity, sort, copy)\u001b[0m\n\u001b[0;32m    377\u001b[0m \u001b[39melif\u001b[39;00m copy \u001b[39mand\u001b[39;00m using_copy_on_write():\n\u001b[0;32m    378\u001b[0m     copy \u001b[39m=\u001b[39m \u001b[39mFalse\u001b[39;00m\n\u001b[1;32m--> 380\u001b[0m op \u001b[39m=\u001b[39m _Concatenator(\n\u001b[0;32m    381\u001b[0m     objs,\n\u001b[0;32m    382\u001b[0m     axis\u001b[39m=\u001b[39;49maxis,\n\u001b[0;32m    383\u001b[0m     ignore_index\u001b[39m=\u001b[39;49mignore_index,\n\u001b[0;32m    384\u001b[0m     join\u001b[39m=\u001b[39;49mjoin,\n\u001b[0;32m    385\u001b[0m     keys\u001b[39m=\u001b[39;49mkeys,\n\u001b[0;32m    386\u001b[0m     levels\u001b[39m=\u001b[39;49mlevels,\n\u001b[0;32m    387\u001b[0m     names\u001b[39m=\u001b[39;49mnames,\n\u001b[0;32m    388\u001b[0m     verify_integrity\u001b[39m=\u001b[39;49mverify_integrity,\n\u001b[0;32m    389\u001b[0m     copy\u001b[39m=\u001b[39;49mcopy,\n\u001b[0;32m    390\u001b[0m     sort\u001b[39m=\u001b[39;49msort,\n\u001b[0;32m    391\u001b[0m )\n\u001b[0;32m    393\u001b[0m \u001b[39mreturn\u001b[39;00m op\u001b[39m.\u001b[39mget_result()\n",
      "File \u001b[1;32mc:\\Users\\ebidr\\AppData\\Local\\Programs\\Python\\Python311\\Lib\\site-packages\\pandas\\core\\reshape\\concat.py:443\u001b[0m, in \u001b[0;36m_Concatenator.__init__\u001b[1;34m(self, objs, axis, join, keys, levels, names, ignore_index, verify_integrity, copy, sort)\u001b[0m\n\u001b[0;32m    440\u001b[0m \u001b[39mself\u001b[39m\u001b[39m.\u001b[39mverify_integrity \u001b[39m=\u001b[39m verify_integrity\n\u001b[0;32m    441\u001b[0m \u001b[39mself\u001b[39m\u001b[39m.\u001b[39mcopy \u001b[39m=\u001b[39m copy\n\u001b[1;32m--> 443\u001b[0m objs, keys \u001b[39m=\u001b[39m \u001b[39mself\u001b[39;49m\u001b[39m.\u001b[39;49m_clean_keys_and_objs(objs, keys)\n\u001b[0;32m    445\u001b[0m \u001b[39m# figure out what our result ndim is going to be\u001b[39;00m\n\u001b[0;32m    446\u001b[0m ndims \u001b[39m=\u001b[39m \u001b[39mself\u001b[39m\u001b[39m.\u001b[39m_get_ndims(objs)\n",
      "File \u001b[1;32mc:\\Users\\ebidr\\AppData\\Local\\Programs\\Python\\Python311\\Lib\\site-packages\\pandas\\core\\reshape\\concat.py:505\u001b[0m, in \u001b[0;36m_Concatenator._clean_keys_and_objs\u001b[1;34m(self, objs, keys)\u001b[0m\n\u001b[0;32m    502\u001b[0m     objs_list \u001b[39m=\u001b[39m \u001b[39mlist\u001b[39m(objs)\n\u001b[0;32m    504\u001b[0m \u001b[39mif\u001b[39;00m \u001b[39mlen\u001b[39m(objs_list) \u001b[39m==\u001b[39m \u001b[39m0\u001b[39m:\n\u001b[1;32m--> 505\u001b[0m     \u001b[39mraise\u001b[39;00m \u001b[39mValueError\u001b[39;00m(\u001b[39m\"\u001b[39m\u001b[39mNo objects to concatenate\u001b[39m\u001b[39m\"\u001b[39m)\n\u001b[0;32m    507\u001b[0m \u001b[39mif\u001b[39;00m keys \u001b[39mis\u001b[39;00m \u001b[39mNone\u001b[39;00m:\n\u001b[0;32m    508\u001b[0m     objs_list \u001b[39m=\u001b[39m \u001b[39mlist\u001b[39m(com\u001b[39m.\u001b[39mnot_none(\u001b[39m*\u001b[39mobjs_list))\n",
      "\u001b[1;31mValueError\u001b[0m: No objects to concatenate"
>>>>>>> efbffb527b86a78ed710d40c1f9ff140c4f45e7a
     ]
    }
   ],
   "source": [
    "\n",
    "def clean_combine_data(start_date, end_date):\n",
    "    date_list=generate_jalali_date_range(start_date, end_date)\n",
    "    data_dir = list(Path(\"./tsetmcdata\").glob(f\"{date_list}.xlsx\"))\n",
    "\n",
    "    all_data = pd.concat([pd.read_excel(f, skiprows=1, header=1)\n",
    "                          for f in data_dir], ignore_index=True)\n",
    "    # Replacing with \"ی\" and \" ک\"\n",
    "    all_data.replace(to_replace=[\"ي\", \"ك\"], value=[\n",
    "        \"ی\", \"ک\"], regex=True, inplace=True)\n",
    "    return all_data\n",
    "\n",
    "\n",
    "clean_combine_data(\"1401-01-01\", \"1402-01-01\")"
   ]
<<<<<<< HEAD
  },
  {
   "cell_type": "code",
   "execution_count": null,
   "id": "c9800c5c",
   "metadata": {},
   "outputs": [],
   "source": []
=======
>>>>>>> efbffb527b86a78ed710d40c1f9ff140c4f45e7a
  }
 ],
 "metadata": {
  "kernelspec": {
   "display_name": "Python 3 (ipykernel)",
   "language": "python",
   "name": "python3"
  },
  "language_info": {
   "codemirror_mode": {
    "name": "ipython",
    "version": 3
   },
   "file_extension": ".py",
   "mimetype": "text/x-python",
   "name": "python",
   "nbconvert_exporter": "python",
   "pygments_lexer": "ipython3",
   "version": "3.11.5"
  }
 },
 "nbformat": 4,
 "nbformat_minor": 5
}
