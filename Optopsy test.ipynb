{
 "cells": [
  {
   "cell_type": "code",
   "execution_count": 3,
   "metadata": {},
   "outputs": [],
   "source": [
    "# %pip install optopsy\n",
    "%pip install dask\n",
    "\n",
    "import dask\n",
    "import dask.dataframe as dd\n",
    "import optopsy as op"
   ]
  },
  {
   "cell_type": "markdown",
   "metadata": {},
   "source": [
    "Function Defintion for creating an option Dataframe"
   ]
  },
  {
   "cell_type": "code",
   "execution_count": 2,
   "metadata": {},
   "outputs": [],
   "source": [
    "\n",
    "\n",
    "def process_file(file_path):\n",
    "    # Read a single Excel file and return as a Dask DataFrame\n",
    "    data = dd.read_excel(file_path, skiprows=1, header=1)\n",
    "\n",
    "    # Replacing with \"ی\" and \"ک\"\n",
    "    data = data.replace(to_replace=[\"ي\", \"ك\"], value=[\"ی\", \"ک\"], regex=True)\n",
    "\n",
    "    return data\n",
    "\n",
    "\n",
    "def clean_combine_data():\n",
    "    data_dir = [\"./tsetmcdata/*.xlsx\"]  # Update the path accordingly\n",
    "\n",
    "    # Create a list of Dask DataFrames\n",
    "    all_data_frames = [dask.delayed(process_file)(f) for f in data_dir]\n",
    "\n",
    "    # Concatenate the list of Dask DataFrames into one Dask DataFrame\n",
    "    combined_data = dd.concat(all_data_frames, axis=0, ignore_index=True)\n",
    "\n",
    "    # Perform any additional data processing operations here if needed\n",
    "\n",
    "    # Compute the Dask DataFrame to get the final result as a Pandas DataFrame\n",
    "    final_result = combined_data.compute()\n",
    "\n",
    "    return final_result"
   ]
  },
  {
   "cell_type": "code",
   "execution_count": 3,
   "metadata": {},
   "outputs": [],
   "source": [
    "df=clean_combine_data()"
   ]
  }
 ],
 "metadata": {
  "kernelspec": {
   "display_name": "Python 3 (ipykernel)",
   "language": "python",
   "name": "python3"
  },
  "language_info": {
   "codemirror_mode": {
    "name": "ipython",
    "version": 3
   },
   "file_extension": ".py",
   "mimetype": "text/x-python",
   "name": "python",
   "nbconvert_exporter": "python",
   "pygments_lexer": "ipython3",
   "version": "3.11.5"
  }
 },
 "nbformat": 4,
 "nbformat_minor": 2
}
